{
 "cells": [
  {
   "cell_type": "markdown",
   "metadata": {},
   "source": [
    "## Exception Handling"
   ]
  },
  {
   "cell_type": "code",
   "execution_count": null,
   "metadata": {},
   "outputs": [],
   "source": [
    "# Exception Error Handling\n",
    "\n",
    "print(10 / 2)\n",
    "print(10 / 0)\n",
    "print(10 / 5)\n"
   ]
  },
  {
   "cell_type": "code",
   "execution_count": null,
   "metadata": {},
   "outputs": [],
   "source": [
    "def divide(parm1, parm2) :\n",
    "    print(f\"In divide() with parm1={parm1} parm2={parm2}\")\n",
    "    \n",
    "    try:\n",
    "        retval = parm1/parm2\n",
    "    except :\n",
    "        retval = 0\n",
    "        \n",
    "    return retval   "
   ]
  },
  {
   "cell_type": "code",
   "execution_count": null,
   "metadata": {},
   "outputs": [],
   "source": [
    "print(f\"result={divide(10, 5)}\")\n",
    "print()\n",
    "print(f\"result={divide(10, 0)}\")\n",
    "print('Done')"
   ]
  },
  {
   "cell_type": "code",
   "execution_count": null,
   "metadata": {},
   "outputs": [],
   "source": [
    "# import module sys to get the type of exception\n",
    "import sys\n",
    "\n",
    "def divide2(parm1, parm2) :\n",
    "    print(f\"In divide2() with parm1={parm1} parm2={parm2}\")\n",
    "        \n",
    "    try:\n",
    "        retval = int(parm1)/int(parm2)\n",
    "        \n",
    "    except:        \n",
    "        print(\"***ERROR: \", sys.exc_info()[0], \"occurred.\")\n",
    "        print()\n",
    "        retval = 0\n",
    "        \n",
    "    return retval   "
   ]
  },
  {
   "cell_type": "code",
   "execution_count": null,
   "metadata": {},
   "outputs": [],
   "source": [
    "# enter data for normal execution\n",
    "val1 = input(\"Enter first number: \")\n",
    "val2 = input(\"Enter second number: \")\n",
    "print(f\"result={divide2(val1, val2)}\")\n",
    "print()\n",
    "\n",
    "# enter 0 for val2\n",
    "val1 = input(\"Enter first number: \")\n",
    "val2 = input(\"Enter second number: \")\n",
    "print(f\"result={divide2(val1, val2)}\")\n",
    "print()\n",
    "\n",
    "# enter alphabet for val2\n",
    "val1 = input(\"Enter first number: \")\n",
    "val2 = input(\"Enter second number: \")\n",
    "print(f\"result={divide2(val1, val2)}\")\n",
    "print('Done')"
   ]
  },
  {
   "cell_type": "markdown",
   "metadata": {},
   "source": [
    "### Exercise 1\n",
    "Write a program that prompts for an integer. Catch an exception error if input value is not an integer and print a friendly error message. \n",
    "The output should look something like this:\n",
    "\n",
    "    Enter an integer: 123.0\n",
    "    *** ERROR: 123.0 is not an integer\n",
    "\n",
    "    Enter an integer: abc\n",
    "    *** ERROR: abc is not an integer\n",
    "\n",
    "    Enter an integer: 123\n",
    "    123 is an integer"
   ]
  },
  {
   "cell_type": "code",
   "execution_count": null,
   "metadata": {},
   "outputs": [],
   "source": []
  },
  {
   "cell_type": "code",
   "execution_count": null,
   "metadata": {},
   "outputs": [],
   "source": []
  },
  {
   "cell_type": "code",
   "execution_count": null,
   "metadata": {},
   "outputs": [],
   "source": []
  },
  {
   "cell_type": "code",
   "execution_count": null,
   "metadata": {},
   "outputs": [],
   "source": [
    "# Or...\n",
    "\n",
    "\n",
    "import sys\n",
    "\n",
    "def check_integer2(parm1) :\n",
    "        \n",
    "    try:\n",
    "        retval = int(parm1)\n",
    "        retval = True\n",
    "    except:\n",
    "        print(f\"***ERROR: {parm1} is not an integer\")\n",
    "        print(\"***ERROR: \", sys.exc_info()[0], \"occurred.\")        \n",
    "        retval = False\n",
    "        \n",
    "    return retval   \n"
   ]
  },
  {
   "cell_type": "code",
   "execution_count": null,
   "metadata": {},
   "outputs": [],
   "source": [
    "val1 = input(\"Enter an integer: \")\n",
    "if (check_integer2(val1)) :\n",
    "    print(f\"{val1} is an integer\")\n",
    "\n",
    "print()\n",
    "val1 = input(\"\\nEnter an integer: \")\n",
    "if (check_integer2(val1)) :\n",
    "    print(f\"{val1} is an integer\")\n",
    "    \n",
    "print()\n",
    "val1 = input(\"\\nEnter an integer: \")\n",
    "if (check_integer2(val1)) :\n",
    "    print(f\"{val1} is an integer\")\n",
    "print()    "
   ]
  },
  {
   "cell_type": "code",
   "execution_count": null,
   "metadata": {},
   "outputs": [],
   "source": []
  },
  {
   "cell_type": "markdown",
   "metadata": {},
   "source": [
    "### catch specific error "
   ]
  },
  {
   "cell_type": "code",
   "execution_count": null,
   "metadata": {},
   "outputs": [],
   "source": [
    "print(z_a)"
   ]
  },
  {
   "cell_type": "code",
   "execution_count": null,
   "metadata": {},
   "outputs": [],
   "source": [
    "# Catch specific exception error\n",
    "z_a = 1\n",
    "try :\n",
    "    print(z_b)\n",
    "except NameError :\n",
    "    print(\"Variable z_a is not defined\")\n",
    "except :\n",
    "    print(\"Something else went wrong\")"
   ]
  },
  {
   "cell_type": "code",
   "execution_count": null,
   "metadata": {},
   "outputs": [],
   "source": [
    "# Catch specific exception error\n",
    "z_a = 1\n",
    "try :\n",
    "    print(z_b)\n",
    "except TypeError :\n",
    "    print(\"Variable z_a is wrong type\")\n",
    "except :\n",
    "    print(\"Something else went wrong\")"
   ]
  },
  {
   "cell_type": "markdown",
   "metadata": {},
   "source": [
    "### else & finally statements in error handling"
   ]
  },
  {
   "cell_type": "code",
   "execution_count": null,
   "metadata": {},
   "outputs": [],
   "source": [
    "x = 1\n",
    "\n",
    "try :\n",
    "    print(x)\n",
    "    # print(y)\n",
    "    \n",
    "except NameError :\n",
    "    print(\"Variable is not defined\")\n",
    "    \n",
    "except :\n",
    "    print(\"Something else went wrong\")\n",
    "    \n",
    "else :\n",
    "    print(\"All went well.\")\n",
    "    \n",
    "finally :\n",
    "    print(\"All done.\")"
   ]
  },
  {
   "cell_type": "code",
   "execution_count": null,
   "metadata": {},
   "outputs": [],
   "source": [
    "x = 1\n",
    "#y = 0\n",
    "\n",
    "try :\n",
    "    print(x/y)\n",
    "    \n",
    "except NameError :\n",
    "    print(\"Variable is not defined\")\n",
    "    \n",
    "except :\n",
    "    print(\"Something else went wrong\")\n",
    "    \n",
    "else :\n",
    "    print(\"All went well.\")\n",
    "    \n",
    "finally :\n",
    "    print(\"All done.\")"
   ]
  },
  {
   "cell_type": "code",
   "execution_count": null,
   "metadata": {},
   "outputs": [],
   "source": [
    "# what will happen?\n",
    "\n",
    "x = 1\n",
    "\n",
    "try :\n",
    "    print(x/z)\n",
    "    \n",
    "except TypeError :\n",
    "    print(\"Wrong data type\")\n",
    "    \n",
    "except ZeroValueError :\n",
    "    print(\"Can not divide by zero\")\n",
    "        \n",
    "except :\n",
    "    print(\"Something else went wrong\")\n",
    "    \n",
    "else :\n",
    "    print(\"All went well.\")\n",
    "    \n",
    "finally :\n",
    "    print(\"All done.\")"
   ]
  },
  {
   "cell_type": "code",
   "execution_count": null,
   "metadata": {},
   "outputs": [],
   "source": [
    "x = 1\n",
    "#z = 0\n",
    "\n",
    "try :\n",
    "    print(x/z)\n",
    "    \n",
    "except TypeError :\n",
    "    print(\"Wrong data type\")\n",
    "    \n",
    "except ZeroDivisionError :\n",
    "    print(\"Can not divide by zero\")\n",
    "        \n",
    "except :\n",
    "    print(\"Something else went wrong\")\n",
    "    \n",
    "else :\n",
    "    print(\"All went well.\")\n",
    "    \n",
    "finally :\n",
    "    print(\"All done.\")"
   ]
  },
  {
   "cell_type": "markdown",
   "metadata": {},
   "source": [
    "### Raise an Exception Error"
   ]
  },
  {
   "cell_type": "code",
   "execution_count": null,
   "metadata": {},
   "outputs": [],
   "source": [
    "# raise exception error - force an exception error\n",
    "\n",
    "x = \"hello\"\n",
    "\n",
    "if type(x) is not int :\n",
    "    raise TypeError(\"Only integers\")\n",
    "    "
   ]
  },
  {
   "cell_type": "code",
   "execution_count": null,
   "metadata": {},
   "outputs": [],
   "source": [
    "x = 2    \n",
    "\n",
    "try :\n",
    "    if x < 10 :\n",
    "#        raise SyntaxError()\n",
    "#        raise TypeError()\n",
    "        raise ValueError()\n",
    "    \n",
    "    y = int(x)\n",
    "    \n",
    "except TypeError: \n",
    "    print(\"TypeError\")\n",
    "except ValueError:\n",
    "    print(\"ValueError\")\n",
    "except :\n",
    "    print(\"Something else\" )\n",
    "    \n",
    "print(\"Done\")    "
   ]
  },
  {
   "cell_type": "code",
   "execution_count": null,
   "metadata": {},
   "outputs": [],
   "source": []
  },
  {
   "cell_type": "markdown",
   "metadata": {},
   "source": [
    "## File I/O"
   ]
  },
  {
   "cell_type": "code",
   "execution_count": null,
   "metadata": {},
   "outputs": [],
   "source": [
    "import csv"
   ]
  },
  {
   "cell_type": "code",
   "execution_count": null,
   "metadata": {},
   "outputs": [],
   "source": [
    "# file I/O\n",
    "# check if file exists using cmd window or file folder\n",
    "\n",
    "out_file = open('my_file', 'w')  \n",
    "out_file.write(\"Hello World\")\n",
    "out_file.close()\n",
    "\n",
    "# check if file exists using cmd window or file folder\n",
    "# use 'type my_file' or 'cat my_file' to see the content of the file"
   ]
  },
  {
   "cell_type": "code",
   "execution_count": null,
   "metadata": {},
   "outputs": [],
   "source": [
    "# over-write file\n",
    "\n",
    "out_file = open('my_file', 'w')\n",
    "out_file.write(\"Hello World, here I come!\")\n",
    "out_file.close()\n",
    "\n",
    "\n",
    "# use 'type my_file' or 'cat my_file' to see the content of the file, again."
   ]
  },
  {
   "cell_type": "code",
   "execution_count": null,
   "metadata": {},
   "outputs": [],
   "source": [
    "# read file\n",
    "\n",
    "input_file = open(\"myFile\", \"r\")\n"
   ]
  },
  {
   "cell_type": "code",
   "execution_count": null,
   "metadata": {},
   "outputs": [],
   "source": [
    "try :\n",
    "    input_file = open(\"myFile\", \"r\")\n",
    "except :\n",
    "    print(\"myFile doesn't exist\")\n"
   ]
  },
  {
   "cell_type": "code",
   "execution_count": null,
   "metadata": {},
   "outputs": [],
   "source": [
    "input_file"
   ]
  },
  {
   "cell_type": "code",
   "execution_count": null,
   "metadata": {},
   "outputs": [],
   "source": [
    "try :\n",
    "    input_file = open(\"my_file\", \"r\")\n",
    "except :\n",
    "    print(\"my_file doesn't exist\")\n",
    "else :    \n",
    "    input_file.close()"
   ]
  },
  {
   "cell_type": "code",
   "execution_count": null,
   "metadata": {},
   "outputs": [],
   "source": [
    "out_file = open('my_file', 'w')\n",
    "out_file.write(\"Hello World.\\nHere I come, again!\")\n"
   ]
  },
  {
   "cell_type": "code",
   "execution_count": null,
   "metadata": {},
   "outputs": [],
   "source": [
    "# in a command window, use 'type my_file' or 'cat my_file' to see \n",
    "# the content of the file, again. Or 'dir my_file' and check the file size.\n",
    "# then, run following \n",
    "\n",
    "out_file.close()\n",
    "\n",
    "\n",
    "# check the content of the file, again."
   ]
  },
  {
   "cell_type": "code",
   "execution_count": null,
   "metadata": {},
   "outputs": [],
   "source": [
    "try :\n",
    "    input_file = open(\"my_file\", \"r\")\n",
    "    \n",
    "    print(\"Name of the file:\", input_file.name)    \n",
    "    print(\"Closed status of the file:\", input_file.closed)    \n",
    "    print(\"Mode of the file:\", input_file.mode)    \n",
    "    \n",
    "except :\n",
    "    print(\"my_file doesn't exist\")\n",
    "else :    \n",
    "    input_file.close()"
   ]
  },
  {
   "cell_type": "code",
   "execution_count": null,
   "metadata": {},
   "outputs": [],
   "source": []
  },
  {
   "cell_type": "code",
   "execution_count": null,
   "metadata": {},
   "outputs": [],
   "source": []
  },
  {
   "cell_type": "code",
   "execution_count": null,
   "metadata": {},
   "outputs": [],
   "source": [
    "# read file\n",
    "\n",
    "in_file = open(\"rowboat.txt\", \"r\")\n",
    "data_str = in_file.read()\n",
    "\n",
    "print(type(data_str))\n",
    "print(data_str)\n",
    "print()\n",
    "print(data_str.replace(\"\\n\", \"***\"))\n",
    "\n",
    "in_file.close()"
   ]
  },
  {
   "cell_type": "code",
   "execution_count": null,
   "metadata": {},
   "outputs": [],
   "source": [
    "in_file.closed"
   ]
  },
  {
   "cell_type": "code",
   "execution_count": null,
   "metadata": {},
   "outputs": [],
   "source": [
    "# read file #2\n",
    "\n",
    "in_file = open(\"rowboat.txt\", \"r\")\n",
    "data_list = in_file.readlines()\n",
    "print(type(data_list))\n",
    "print(data_list)\n",
    "print()\n",
    "\n",
    "for item in data_list :\n",
    "    print(item.replace(\"\\n\", \"***\"))\n",
    "    \n",
    "out_file.close()"
   ]
  },
  {
   "cell_type": "code",
   "execution_count": null,
   "metadata": {
    "scrolled": true
   },
   "outputs": [],
   "source": [
    "# read file #3\n",
    "\n",
    "in_file = open(\"rowboat.txt\", \"r\")\n",
    "data_list = in_file.readline()\n",
    "print(type(data_list))\n",
    "print(data_list)"
   ]
  },
  {
   "cell_type": "code",
   "execution_count": null,
   "metadata": {},
   "outputs": [],
   "source": [
    "data_list = in_file.readline()\n",
    "print(type(data_list))\n",
    "print(data_list)"
   ]
  },
  {
   "cell_type": "code",
   "execution_count": null,
   "metadata": {},
   "outputs": [],
   "source": [
    "out_file.close()"
   ]
  },
  {
   "cell_type": "code",
   "execution_count": null,
   "metadata": {},
   "outputs": [],
   "source": [
    "# read file #4\n",
    "\n",
    "in_file = open(\"rowboat.txt\", \"r\")\n",
    "line = in_file.readline()\n",
    "while line :   \n",
    "    print(type(line))\n",
    "    print(line)\n",
    "    line = in_file.readline()\n",
    "\n",
    "in_file.close()"
   ]
  },
  {
   "cell_type": "code",
   "execution_count": null,
   "metadata": {},
   "outputs": [],
   "source": [
    "print(\">>>\"+line+\"<<<\")"
   ]
  },
  {
   "cell_type": "code",
   "execution_count": null,
   "metadata": {},
   "outputs": [],
   "source": [
    "# read file #5\n",
    "\n",
    "in_file = open(\"rowboat.txt\", \"r\")\n",
    "\n",
    "for line in in_file :   #using for loop to read a line at a time\n",
    "    print(type(line))\n",
    "    print(line)\n",
    "\n",
    "in_file.close()"
   ]
  },
  {
   "cell_type": "markdown",
   "metadata": {},
   "source": [
    "### Exercise 2\n",
    "Copy <b>my_file</b> to <b>my_file_copy</b>. Also, print out the length of the file."
   ]
  },
  {
   "cell_type": "code",
   "execution_count": null,
   "metadata": {},
   "outputs": [],
   "source": []
  },
  {
   "cell_type": "code",
   "execution_count": null,
   "metadata": {},
   "outputs": [],
   "source": []
  },
  {
   "cell_type": "code",
   "execution_count": null,
   "metadata": {},
   "outputs": [],
   "source": [
    "# rewind\n",
    "\n",
    "in_file = open(\"rowboat.txt\", \"r\")\n",
    "line = in_file.readline()\n",
    "print(len(line), line)\n",
    "\n",
    "line = in_file.readline()\n",
    "print(len(line), line)"
   ]
  },
  {
   "cell_type": "code",
   "execution_count": null,
   "metadata": {},
   "outputs": [],
   "source": [
    "in_file.seek(0)\n",
    "\n",
    "line = in_file.readline()\n",
    "print(line, end='')\n",
    "\n",
    "print(len(line))\n",
    "print(in_file.tell())  # read new-line character ('\\n')"
   ]
  },
  {
   "cell_type": "code",
   "execution_count": null,
   "metadata": {},
   "outputs": [],
   "source": [
    "in_file.seek(12)\n",
    "\n",
    "line = in_file.readline()\n",
    "print(line, end='')\n",
    "\n",
    "print(len(line))\n",
    "print(in_file.tell())  "
   ]
  },
  {
   "cell_type": "code",
   "execution_count": null,
   "metadata": {},
   "outputs": [],
   "source": [
    "fptr_loc = in_file.seek(0)\n",
    "print(in_file.tell(), fptr_loc)\n",
    "\n",
    "line = in_file.readline()\n",
    "print(len(line), line)\n",
    "\n",
    "fptr_loc += len(line) + 1          # readline() reads upto new-line char\n",
    "print(in_file.tell(), fptr_loc)\n",
    "\n",
    "line = in_file.readline()\n",
    "print(len(line), line)\n",
    "\n",
    "fptr_loc += len(line) + 1          # readline() reads upto new-line char\n",
    "print(in_file.tell(), fptr_loc)\n",
    "\n",
    "in_file.close()"
   ]
  },
  {
   "cell_type": "code",
   "execution_count": null,
   "metadata": {},
   "outputs": [],
   "source": [
    "def print_all(fptr) :\n",
    "    print(fptr.read())\n",
    "    \n",
    "def print_line(line_no, fptr) :\n",
    "    print(line_no, fptr.readline())\n",
    "    \n",
    "def rewind(fptr) :\n",
    "    fptr.seek(0)"
   ]
  },
  {
   "cell_type": "code",
   "execution_count": null,
   "metadata": {},
   "outputs": [],
   "source": [
    "try:\n",
    "    in_file = open(\"rowboat.txt\", \"r\")\n",
    "    print(\"File Dump: \\n\")\n",
    "    print_all(in_file)\n",
    "    rewind(in_file)\n",
    "\n",
    "    print()\n",
    "    line_no = 1\n",
    "    print_line(line_no, in_file)    \n",
    "    \n",
    "    line_no += 1\n",
    "    print_line(line_no, in_file)\n",
    "        \n",
    "    line_no += 1\n",
    "    print_line(line_no, in_file)\n",
    "        \n",
    "    line_no += 1\n",
    "    print_line(line_no, in_file)\n",
    "    \n",
    "except:\n",
    "    print(\"file doesn't exist.\")\n",
    "else:\n",
    "    in_file.close()\n"
   ]
  },
  {
   "cell_type": "code",
   "execution_count": null,
   "metadata": {},
   "outputs": [],
   "source": [
    "# bineary file\n",
    "in_bfile = open(\"binary_data.bin\", \"wb\")\n",
    "sample = bytes(\"Hello\".encode(\"ascii\"))   #  encode () returns an encoded version of the string. \n",
    "in_bfile.write(sample)\n",
    "in_bfile.close()"
   ]
  },
  {
   "cell_type": "code",
   "execution_count": null,
   "metadata": {},
   "outputs": [],
   "source": [
    "in_bfile = open(\"binary_data.bin\", \"rb\")\n",
    "print(in_bfile.read())\n",
    "in_bfile.close()"
   ]
  },
  {
   "cell_type": "code",
   "execution_count": null,
   "metadata": {},
   "outputs": [],
   "source": [
    "# bineary file\n",
    "in_bfile = open(\"binary_data2.bin\", \"wb+\")\n",
    "sample = bytes(\"Hello, world!\".encode(\"ascii\"))\n",
    "in_bfile.write(sample)\n",
    "\n",
    "in_bfile.seek(0)\n",
    "bdata = in_bfile.read()\n",
    "\n",
    "print(\"Binary sentence:\", bdata)\n",
    "print(\"ASCII sentence: \", bdata.decode(\"ascii\"))\n",
    "\n",
    "in_bfile.close()"
   ]
  },
  {
   "cell_type": "code",
   "execution_count": null,
   "metadata": {},
   "outputs": [],
   "source": [
    "type(bdata)"
   ]
  },
  {
   "cell_type": "code",
   "execution_count": null,
   "metadata": {},
   "outputs": [],
   "source": [
    "# bineary file\n",
    "in_bfile = open(\"binary_array.bin\", \"wb\")\n",
    "numb = [10, 20, 30, 40, 50]\n",
    "\n",
    "sample = bytes(numb)\n",
    "in_bfile.write(sample)\n",
    "in_bfile.close()"
   ]
  },
  {
   "cell_type": "code",
   "execution_count": null,
   "metadata": {},
   "outputs": [],
   "source": [
    "in_bfile = open(\"binary_array.bin\", \"rb\")\n",
    "print(list(in_bfile.read()))\n",
    "in_bfile.close()"
   ]
  },
  {
   "cell_type": "code",
   "execution_count": null,
   "metadata": {},
   "outputs": [],
   "source": [
    "in_bfile = open(\"binary_array.bin\", \"rb\")\n",
    "sample = in_bfile.read()\n",
    "print(list(sample))\n",
    "print(sample)\n",
    "in_bfile.close()"
   ]
  },
  {
   "cell_type": "code",
   "execution_count": null,
   "metadata": {
    "scrolled": true
   },
   "outputs": [],
   "source": [
    "# bineary file - copy\n",
    "in_bfile = open(\"mc_image.jpeg\", \"rb\")\n",
    "data = in_bfile.read()\n",
    "print(data[0])"
   ]
  },
  {
   "cell_type": "code",
   "execution_count": null,
   "metadata": {},
   "outputs": [],
   "source": [
    "print(data[0:10])"
   ]
  },
  {
   "cell_type": "code",
   "execution_count": null,
   "metadata": {},
   "outputs": [],
   "source": [
    "out_bfile = open(\"mc_image_copy.jpeg\", \"wb\")\n",
    "out_bfile.write(data)\n",
    "out_bfile.close()\n",
    "in_bfile.close()\n"
   ]
  },
  {
   "cell_type": "markdown",
   "metadata": {},
   "source": [
    "### Exercise 3.\n",
    "1. Write your message to a file called <b>exercise2.txt</b> and close the file. \n",
    "2. Append \"I got this!\" message to your file.\n",
    "3. Then, print the content of <b>exercise2.txt</b>."
   ]
  },
  {
   "cell_type": "code",
   "execution_count": null,
   "metadata": {},
   "outputs": [],
   "source": [
    "\n",
    "fptr = open(\"exercise2.txt\", 'w') # open exercise2.txt for writing\n",
    "fptr.write(\"I am getting this.\")  # write data to a file\n",
    "fptr.close()                      # close the file\n",
    "\n",
    "# open a file for appending\n",
    "\n",
    "\n",
    "# write the new message, \"I go this!\"\n",
    "\n",
    "\n",
    "# move the file pointer to the beginning\n",
    "\n",
    "\n",
    "# read data\n",
    "\n",
    "\n",
    "# print the content\n",
    "for line in data :\n",
    "    print(line, end='')\n",
    "    \n",
    "fptr.close()\n"
   ]
  },
  {
   "cell_type": "code",
   "execution_count": null,
   "metadata": {},
   "outputs": [],
   "source": []
  },
  {
   "cell_type": "markdown",
   "metadata": {},
   "source": [
    "### with "
   ]
  },
  {
   "cell_type": "code",
   "execution_count": null,
   "metadata": {},
   "outputs": [],
   "source": [
    "try :\n",
    "    with open(\"rowboat2.txt\") as data_file :\n",
    "        for line in data_file :   #using for loop to read a line at a time\n",
    "            print(type(line))\n",
    "            print(line)\n",
    "except:\n",
    "    print(\"rowboat2.txt doesn't exist!\")\n"
   ]
  },
  {
   "cell_type": "code",
   "execution_count": null,
   "metadata": {
    "scrolled": true
   },
   "outputs": [],
   "source": [
    "out_file = open('my_file', 'w')\n",
    "out_file.write(\"Hello World.\\nHere I come!\")\n",
    "#check the file size"
   ]
  },
  {
   "cell_type": "code",
   "execution_count": null,
   "metadata": {},
   "outputs": [],
   "source": [
    "out_file.close()  \n",
    "#check the file size"
   ]
  },
  {
   "cell_type": "code",
   "execution_count": null,
   "metadata": {},
   "outputs": [],
   "source": [
    "with open(\"rowboat2.txt\", \"w\") as data_file :\n",
    "    data_file.write(\"Hello World.\\nHere I come!\")\n",
    "    \n",
    "#check the file size    "
   ]
  },
  {
   "cell_type": "markdown",
   "metadata": {},
   "source": [
    "## csv files"
   ]
  },
  {
   "cell_type": "code",
   "execution_count": null,
   "metadata": {},
   "outputs": [],
   "source": [
    "# CSV file\n",
    "\n",
    "try :\n",
    "    with open(\"movies.csv\") as data_file :\n",
    "        csv_data = csv.reader(data_file)\n",
    "\n",
    "        for row in csv_data :\n",
    "            print(row)\n",
    "    \n",
    "except :\n",
    "    print(\"ERROR: movies.csv doesn't exist!\")"
   ]
  },
  {
   "cell_type": "code",
   "execution_count": null,
   "metadata": {},
   "outputs": [],
   "source": [
    "header = [\"Title\", \"Year\", \"Genre\"]\n",
    "\n",
    "out_csv_file = open(\"movies3-copy.csv\", \"w\")\n",
    "csv_out = csv.writer(out_csv_file)\n",
    "csv_out.writerow(header)\n",
    "out_csv_file.close()\n",
    " \n",
    "# check the file size    "
   ]
  },
  {
   "cell_type": "code",
   "execution_count": null,
   "metadata": {},
   "outputs": [],
   "source": [
    "# using previously read data, csv_data\n",
    "\n",
    "with open(\"movies2-copy.csv\", \"a\") as out_csv_file :    \n",
    "    csv_out = csv.writer(out_csv_file)\n",
    "    for row in csv_data :\n",
    "        csv_out.writerow(row)\n",
    "\n",
    "        \n",
    "        \n",
    "# what happened?"
   ]
  },
  {
   "cell_type": "code",
   "execution_count": null,
   "metadata": {},
   "outputs": [],
   "source": [
    "with open(\"movies.csv\") as data_file :\n",
    "    csv_data = csv.reader(data_file)\n",
    "\n",
    "    out_csv_file = open(\"movies3-copy.csv\", \"w\")    \n",
    "    csv_out = csv.writer(out_csv_file)\n",
    "    csv_out.writerow(header)\n",
    "    \n",
    "    for row in csv_data :\n",
    "        csv_out.writerow(row)\n",
    "        \n",
    "    out_csv_file.close()"
   ]
  },
  {
   "cell_type": "code",
   "execution_count": null,
   "metadata": {},
   "outputs": [],
   "source": [
    "# OR \n",
    "\n",
    "with open(\"movies.csv\") as data_file :\n",
    "    csv_data = csv.reader(data_file)\n",
    "\n",
    "    with  open(\"movies3-copy2.csv\", \"w\") as out_csv_file :    \n",
    "        csv_out = csv.writer(out_csv_file)\n",
    "        csv_out.writerow(header)\n",
    "        \n",
    "        for row in csv_data :\n",
    "            csv_out.writerow(row)\n",
    "        \n",
    "    "
   ]
  },
  {
   "cell_type": "code",
   "execution_count": null,
   "metadata": {},
   "outputs": [],
   "source": [
    "# write multiple rows\n",
    "\n",
    "movies = [[\"The Wizard of Oz\", 1939, \"Drama\"], [\"Modern Times\", 1936, \"Comedy\"], \n",
    "          [\"Singing in the Rain\", 1952, \"Musical\"], [\"Psycho\", 1960, \"Thriller\"],\n",
    "          [\"King Kong\", 1933, \"Sci-Fi\"]]\n",
    "\n",
    "with  open(\"movies3-copy2.csv\", \"a\") as out_csv_file :    \n",
    "        csv_out = csv.writer(out_csv_file)        \n",
    "        csv_out.writerows(movies)\n",
    "        \n",
    "print(\"Check files\")        "
   ]
  },
  {
   "cell_type": "markdown",
   "metadata": {},
   "source": [
    "### Read <b>movies.csv</b> file to <i>load</i> data.\n",
    "File's first line contains header information."
   ]
  },
  {
   "cell_type": "code",
   "execution_count": null,
   "metadata": {},
   "outputs": [],
   "source": [
    "counter = 0\n",
    "header = [''] * 3\n",
    "movies = []\n",
    "\n",
    "try :\n",
    "    with open(\"movies.csv\") as data_file :\n",
    "        csv_data = csv.reader(data_file)\n",
    "\n",
    "        for row in csv_data :    # 0: name, 1: year, 2: genre\n",
    "            movie = {}           # initialize movie\n",
    "\n",
    "            if counter == 0 :    # for header information\n",
    "                header[0] = row[0].strip()\n",
    "                header[1] = row[1].strip()\n",
    "                header[2] = row[2].strip()                \n",
    "            else :    \n",
    "                movie[header[0]] = row[0].strip() \n",
    "                movie[header[1]] = row[1].strip() \n",
    "                movie[header[2]] = row[2].strip()                 \n",
    "                movies.append(movie)\n",
    "\n",
    "            counter += 1    \n",
    "    \n",
    "except :\n",
    "    print(\"ERROR: movies.csv doesn't exist!\")\n",
    "    \n",
    "finally:\n",
    "    print(movies)"
   ]
  },
  {
   "cell_type": "markdown",
   "metadata": {},
   "source": [
    "### Exercise 4\n",
    "Write a function called <b>save_data</b> to save the content of movies dictionary.  The requirements are:\n",
    "\n",
    "        - a file name passed as the first argument\n",
    "        - a data dictionary is passed as the second argument\n",
    "        - the first line in a file must contain header information\n"
   ]
  },
  {
   "cell_type": "code",
   "execution_count": null,
   "metadata": {},
   "outputs": [],
   "source": [
    "def save_data(filename, movie_list):\n",
    "    # initialization\n",
    "\n",
    "    \n",
    "    \n",
    "    # open a file and prepare for writing\n",
    "    file = open(filename, \"w\")\n",
    "\n",
    "\n",
    "    # write row    \n",
    "       \n",
    "    \n",
    "    # close file\n",
    "    file.close()"
   ]
  },
  {
   "cell_type": "code",
   "execution_count": null,
   "metadata": {},
   "outputs": [],
   "source": [
    "movies = [{'title': 'Toy Story', 'year': '1995', 'genre': 'Animation'}, \n",
    "          {'title': 'Gladiator', 'year': '2000', 'genre': 'Action'}, \n",
    "          {'title': 'Snow White', 'year': '1950', 'genre': 'Animation'}]\n",
    "\n",
    "save_data(\"test3.csv\", movies)"
   ]
  },
  {
   "cell_type": "code",
   "execution_count": null,
   "metadata": {},
   "outputs": [],
   "source": []
  }
 ],
 "metadata": {
  "kernelspec": {
   "display_name": "Python 3",
   "language": "python",
   "name": "python3"
  },
  "language_info": {
   "codemirror_mode": {
    "name": "ipython",
    "version": 3
   },
   "file_extension": ".py",
   "mimetype": "text/x-python",
   "name": "python",
   "nbconvert_exporter": "python",
   "pygments_lexer": "ipython3",
   "version": "3.7.6"
  }
 },
 "nbformat": 4,
 "nbformat_minor": 4
}
